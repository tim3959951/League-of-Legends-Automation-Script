{
 "cells": [
  {
   "cell_type": "code",
   "execution_count": 1,
   "metadata": {},
   "outputs": [
    {
     "name": "stdout",
     "output_type": "stream",
     "text": [
      "Requirement already satisfied: numpy in /Users/tim/myenv/lib/python3.9/site-packages (1.23.5)\n",
      "Requirement already satisfied: opencv-python in /Users/tim/myenv/lib/python3.9/site-packages (4.9.0.80)\n",
      "Requirement already satisfied: pyautogui in /Users/tim/myenv/lib/python3.9/site-packages (0.9.54)\n",
      "Requirement already satisfied: pymsgbox in /Users/tim/myenv/lib/python3.9/site-packages (from pyautogui) (1.0.9)\n",
      "Requirement already satisfied: pyscreeze>=0.1.21 in /Users/tim/myenv/lib/python3.9/site-packages (from pyautogui) (0.1.30)\n",
      "Requirement already satisfied: pyobjc-core in /Users/tim/myenv/lib/python3.9/site-packages (from pyautogui) (10.2)\n",
      "Requirement already satisfied: pygetwindow>=0.0.5 in /Users/tim/myenv/lib/python3.9/site-packages (from pyautogui) (0.0.9)\n",
      "Requirement already satisfied: mouseinfo in /Users/tim/myenv/lib/python3.9/site-packages (from pyautogui) (0.1.3)\n",
      "Requirement already satisfied: pytweening>=1.0.4 in /Users/tim/myenv/lib/python3.9/site-packages (from pyautogui) (1.2.0)\n",
      "Requirement already satisfied: pyobjc-framework-quartz in /Users/tim/myenv/lib/python3.9/site-packages (from pyautogui) (10.2)\n",
      "Requirement already satisfied: pyrect in /Users/tim/myenv/lib/python3.9/site-packages (from pygetwindow>=0.0.5->pyautogui) (0.2.0)\n",
      "Requirement already satisfied: Pillow>=9.2.0 in /Users/tim/myenv/lib/python3.9/site-packages (from pyscreeze>=0.1.21->pyautogui) (10.3.0)\n",
      "Requirement already satisfied: pyperclip in /Users/tim/myenv/lib/python3.9/site-packages (from mouseinfo->pyautogui) (1.8.2)\n",
      "Requirement already satisfied: rubicon-objc in /Users/tim/myenv/lib/python3.9/site-packages (from mouseinfo->pyautogui) (0.4.8)\n",
      "Requirement already satisfied: pyobjc-framework-Cocoa>=10.2 in /Users/tim/myenv/lib/python3.9/site-packages (from pyobjc-framework-quartz->pyautogui) (10.2)\n",
      "\u001b[33mWARNING: You are using pip version 22.0.4; however, version 24.0 is available.\n",
      "You should consider upgrading via the '/Users/tim/myenv/bin/python3.9 -m pip install --upgrade pip' command.\u001b[0m\u001b[33m\n",
      "\u001b[0mNote: you may need to restart the kernel to use updated packages.\n"
     ]
    }
   ],
   "source": [
    "pip install numpy opencv-python pyautogui\n"
   ]
  },
  {
   "cell_type": "code",
   "execution_count": 1,
   "metadata": {},
   "outputs": [
    {
     "name": "stdout",
     "output_type": "stream",
     "text": [
      "Collecting pynput\n",
      "  Using cached pynput-1.7.6-py2.py3-none-any.whl (89 kB)\n",
      "Requirement already satisfied: pyobjc-framework-ApplicationServices>=8.0 in /Users/tim/myenv/lib/python3.9/site-packages (from pynput) (10.2)\n",
      "Requirement already satisfied: six in /Users/tim/myenv/lib/python3.9/site-packages (from pynput) (1.16.0)\n",
      "Requirement already satisfied: pyobjc-framework-Quartz>=8.0 in /Users/tim/myenv/lib/python3.9/site-packages (from pynput) (10.2)\n",
      "Requirement already satisfied: pyobjc-framework-Cocoa>=10.2 in /Users/tim/myenv/lib/python3.9/site-packages (from pyobjc-framework-ApplicationServices>=8.0->pynput) (10.2)\n",
      "Requirement already satisfied: pyobjc-core>=10.2 in /Users/tim/myenv/lib/python3.9/site-packages (from pyobjc-framework-ApplicationServices>=8.0->pynput) (10.2)\n",
      "Requirement already satisfied: pyobjc-framework-CoreText>=10.2 in /Users/tim/myenv/lib/python3.9/site-packages (from pyobjc-framework-ApplicationServices>=8.0->pynput) (10.2)\n",
      "Installing collected packages: pynput\n",
      "Successfully installed pynput-1.7.6\n",
      "\u001b[33mWARNING: You are using pip version 22.0.4; however, version 24.0 is available.\n",
      "You should consider upgrading via the '/Users/tim/myenv/bin/python3.9 -m pip install --upgrade pip' command.\u001b[0m\u001b[33m\n",
      "\u001b[0mNote: you may need to restart the kernel to use updated packages.\n"
     ]
    }
   ],
   "source": [
    "pip install pynput"
   ]
  },
  {
   "cell_type": "code",
   "execution_count": 9,
   "metadata": {},
   "outputs": [
    {
     "name": "stdout",
     "output_type": "stream",
     "text": [
      "Clicked at (1089, 1508)\n"
     ]
    }
   ],
   "source": [
    "import cv2\n",
    "import numpy as np\n",
    "import pyautogui\n",
    "import time\n",
    "import random\n",
    "\n",
    "def right_click_random_position():\n",
    "    screen_width, screen_height = pyautogui.size()\n",
    "    x = random.randint(0, screen_width - 1)\n",
    "    y = random.randint(0, screen_height - 1)\n",
    "    pyautogui.moveTo(x, y, duration=0.5)\n",
    "    pyautogui.click(button='right')\n",
    "\n",
    "def find_and_click(icons_paths, threshold=0.8):\n",
    "    sup_clicked = False\n",
    "    yumi_clicked = False\n",
    "    can_click_lock = False  \n",
    "    keep_running = False  \n",
    "    last_clicked_times = {}  \n",
    "    cooldown = 5  \n",
    "\n",
    "    while True:\n",
    "        screenshot = pyautogui.screenshot()\n",
    "        screen = np.array(screenshot)\n",
    "        screen_gray = cv2.cvtColor(screen, cv2.COLOR_BGR2GRAY)\n",
    "\n",
    "        for icon_path in icons_paths:\n",
    "            icon = cv2.imread(icon_path, 0)\n",
    "            if icon is None:\n",
    "                print(f\"Error loading image: {icon_path}\")\n",
    "                continue\n",
    "\n",
    "            res = cv2.matchTemplate(screen_gray, icon, cv2.TM_CCOEFF_NORMED)\n",
    "            loc = np.where(res >= threshold)\n",
    "\n",
    "            for pt in zip(*loc[::-1]):\n",
    "                icon_name = icon_path.split('/')[-1]\n",
    "                logical_x = (pt[0] + icon.shape[1]//2) // 2\n",
    "                logical_y = (pt[1] + icon.shape[0]//2) // 2\n",
    "                current_time = time.time()\n",
    "\n",
    "                if icon_name in last_clicked_times and current_time - last_clicked_times[icon_name] < cooldown:\n",
    "                    print(f\"{icon_name} is still in cooldown.\")\n",
    "                    continue\n",
    "\n",
    "                pyautogui.moveTo(logical_x, logical_y, duration=0.5)\n",
    "                pyautogui.click(button='left')\n",
    "                last_clicked_times[icon_name] = current_time\n",
    "\n",
    "                if icon_path.endswith('sup.png'):\n",
    "                    sup_clicked = True\n",
    "                elif icon_path.endswith('yumi.png'):\n",
    "                    yumi_clicked = True\n",
    "\n",
    "                if sup_clicked and yumi_clicked:\n",
    "                    can_click_lock = True  \n",
    "\n",
    "                if 'lock.png' in icon_path and can_click_lock:\n",
    "                    pyautogui.moveTo(logical_x, logical_y)\n",
    "                    pyautogui.click(button='left')\n",
    "                    print(f\"Clicked lock.png at ({logical_x}, {logical_y}) after both sup and yumi clicked.\")\n",
    "                    sup_clicked = False  \n",
    "                    yumi_clicked = False  \n",
    "                    can_click_lock = False \n",
    "                    keep_running = True  \n",
    "                elif icon_path.endswith('finish game.png') or icon_path.endswith('next.png'):\n",
    "                    keep_running = False  \n",
    "\n",
    "        if keep_running:\n",
    "            right_click_random_position()\n",
    "\n",
    "        #time.sleep(1)  \n",
    "\n",
    "icons_paths = [\n",
    "    '/Users/tim/Desktop/one more game.png',\n",
    "    '/Users/tim/Desktop/continue.png',\n",
    "    '/Users/tim/Desktop/find match1.png',\n",
    "    '/Users/tim/Desktop/sup.png',\n",
    "    '/Users/tim/Desktop/yumi1.png',\n",
    "    '/Users/tim/Desktop/lock.png',\n",
    "    '/Users/tim/Desktop/finish game.png',\n",
    "    '/Users/tim/Desktop/next.png',\n",
    "    '/Users/tim/Desktop/accept match.png',\n",
    "    '/Users/tim/Desktop/ok.png',\n",
    "]\n",
    "find_and_click(icons_paths)\n"
   ]
  },
  {
   "cell_type": "code",
   "execution_count": null,
   "metadata": {},
   "outputs": [],
   "source": [
    "from pynput import keyboard\n",
    "\n",
    "# 定義鍵盤按下事件處理函數\n",
    "def on_press(key):\n",
    "    try:\n",
    "        # 監聽到按鍵按下事件，輸出按下的按鍵\n",
    "        print('按下按鍵: {0}'.format(key.char))\n",
    "    except AttributeError:\n",
    "        # 如果是特殊按鍵，輸出特殊按鍵的名稱\n",
    "        print('特殊按鍵按下: {0}'.format(key))\n",
    "\n",
    "# 定義鍵盤釋放事件處理函數\n",
    "def on_release(key):\n",
    "    # 監聽到按鍵釋放事件，輸出釋放的按鍵\n",
    "    print('釋放按鍵: {0}'.format(key))\n",
    "    # 如果按下Esc按鍵，則停止監聽\n",
    "    if key == keyboard.Key.esc:\n",
    "        return False\n",
    "\n",
    "# 創建一個監聽器來監聽鍵盤事件\n",
    "with keyboard.Listener(on_press=on_press, on_release=on_release) as listener:\n",
    "    # 監聽器在一個線程中運行，這裡使用join函數阻塞主線程，直到監聽器停止\n",
    "    listener.join()\n",
    "\n"
   ]
  }
 ],
 "metadata": {
  "kernelspec": {
   "display_name": "Python (myenv)",
   "language": "python",
   "name": "myenv"
  },
  "language_info": {
   "codemirror_mode": {
    "name": "ipython",
    "version": 3
   },
   "file_extension": ".py",
   "mimetype": "text/x-python",
   "name": "python",
   "nbconvert_exporter": "python",
   "pygments_lexer": "ipython3",
   "version": "3.9.13"
  }
 },
 "nbformat": 4,
 "nbformat_minor": 2
}
